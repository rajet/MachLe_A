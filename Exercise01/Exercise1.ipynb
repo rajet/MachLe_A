{
 "cells": [
  {
   "cell_type": "markdown",
   "metadata": {
    "id": "dfjRPxKIcE-n"
   },
   "source": [
    "## Exercise 1: Data Loading, Inspection and Visualization\n",
    "For this exercise, we use NBA data `nba_stats.csv` provided.\n"
   ]
  },
  {
   "cell_type": "code",
   "execution_count": 1,
   "metadata": {
    "id": "VFxE6lmZkyWW"
   },
   "outputs": [],
   "source": [
    "# Import requiered packages\n",
    "import pandas as pd\n",
    "import matplotlib.pyplot as plt"
   ]
  },
  {
   "cell_type": "markdown",
   "metadata": {},
   "source": [
    "#### 1. Load the dataset."
   ]
  },
  {
   "cell_type": "code",
   "execution_count": null,
   "metadata": {},
   "outputs": [],
   "source": [
    "# [YOUR SOLUTION HERE]"
   ]
  },
  {
   "cell_type": "markdown",
   "metadata": {
    "colab": {
     "base_uri": "https://localhost:8080/",
     "height": 204
    },
    "id": "zsDyWkz528x1",
    "outputId": "e84eda28-60bd-4dec-8691-68a9c1b097d3"
   },
   "source": [
    "#### 2. Get an overview of the dataset"
   ]
  },
  {
   "cell_type": "code",
   "execution_count": null,
   "metadata": {},
   "outputs": [],
   "source": [
    "# [YOUR SOLUTION HERE]"
   ]
  },
  {
   "cell_type": "markdown",
   "metadata": {
    "id": "KzdSEbjU4lhq"
   },
   "source": [
    "###### 1. Find the average age of the players for the year 2017."
   ]
  },
  {
   "cell_type": "code",
   "execution_count": null,
   "metadata": {},
   "outputs": [],
   "source": [
    "# [YOUR SOLUTION HERE]"
   ]
  },
  {
   "cell_type": "markdown",
   "metadata": {
    "id": "1297AnJi442Y"
   },
   "source": [
    "###### 2. Plot the total number of points (`PTS`) per year since 2000."
   ]
  },
  {
   "cell_type": "code",
   "execution_count": null,
   "metadata": {},
   "outputs": [],
   "source": [
    "# [YOUR SOLUTION HERE]"
   ]
  },
  {
   "cell_type": "markdown",
   "metadata": {
    "id": "0x26BZp390bp"
   },
   "source": [
    "###### 3. Plot the number of players per year since 2010. What is the year with the most players?"
   ]
  },
  {
   "cell_type": "code",
   "execution_count": null,
   "metadata": {},
   "outputs": [],
   "source": [
    "# [YOUR SOLUTION HERE]"
   ]
  }
 ],
 "metadata": {
  "colab": {
   "authorship_tag": "ABX9TyMGQSXPDnwvhfsfH00XG7VF",
   "collapsed_sections": [],
   "include_colab_link": true,
   "name": "Exercises_Solutions.ipynb",
   "provenance": []
  },
  "kernelspec": {
   "display_name": "Python 3 (ipykernel)",
   "language": "python",
   "name": "python3"
  },
  "language_info": {
   "codemirror_mode": {
    "name": "ipython",
    "version": 3
   },
   "file_extension": ".py",
   "mimetype": "text/x-python",
   "name": "python",
   "nbconvert_exporter": "python",
   "pygments_lexer": "ipython3",
   "version": "3.11.5"
  }
 },
 "nbformat": 4,
 "nbformat_minor": 1
}
